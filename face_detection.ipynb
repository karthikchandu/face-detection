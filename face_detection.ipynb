{
  "nbformat": 4,
  "nbformat_minor": 0,
  "metadata": {
    "colab": {
      "name": "face detection.ipynb",
      "provenance": []
    },
    "kernelspec": {
      "name": "python3",
      "display_name": "Python 3"
    }
  },
  "cells": [
    {
      "cell_type": "code",
      "metadata": {
        "id": "ONCXEkNF9Ahh",
        "colab_type": "code",
        "colab": {}
      },
      "source": [
        "import cv2\n",
        " \n",
        "faceCascade= cv2.CascadeClassifier(\"Resources/haarcascade_frontalface_default.xml\")\n",
        "img = cv2.imread('Resources/lena.png')\n",
        "imgGray = cv2.cvtColor(img,cv2.COLOR_BGR2GRAY)\n",
        " \n",
        "faces = faceCascade.detectMultiScale(imgGray,1.1,4)\n",
        " \n",
        "for (x,y,w,h) in faces:\n",
        "    cv2.rectangle(img,(x,y),(x+w,y+h),(255,0,0),2)\n",
        " \n",
        "cv2.imshow(\"Result\", img)\n",
        "cv2.waitKey(0)\n",
        "Downloads"
      ],
      "execution_count": null,
      "outputs": []
    }
  ]
}